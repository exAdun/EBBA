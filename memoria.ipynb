{
 "cells": [
  {
   "attachments": {},
   "cell_type": "markdown",
   "metadata": {},
   "source": [
    "# Memoria EBBA\n",
    "\n",
    "La inspiración para trabajar en este tema me llegó a través de un [_blog_](https://gsverhoeven.github.io/post/blood-bowl-nufflytics/) escrito por un _Data Scientist_ llamado [Gertjan Verhoeven](https://github.com/gsverhoeven). Obviamente, al tener más experiencia que yo, su extracción, filtrado e interpretación de los datos es mucho más profunda, pero me pareció interesante trabajar sobre el tema.\n",
    "\n",
    "Lo primero que hice fue determinar los _datasets_ que quería utilizar. Gracias a la página de la [NAF(_The Nuffle Amorical Football (NAF) is an international association of players dedicated to Blood Bowl, the Games Workshop game of fantasy football._)](https://www.thenaf.net/) y analistas de datos a los que les gusta el juego, los _dataframes_ que existían solían estar bastante limpios.\n",
    "\n",
    "Principalmente me he basado en los _datasets_ del analista \"oficial\" de la NAF, [Mike Sann (Sann0638)](https://public.tableau.com/app/profile/mike.sann0638.davies#!/). En su página de _Tableau_ podemos encontrar el _NAF Report_ que suele subirse mensualmente y además, hacen un reporte anual como el que acaban de sacar para 2022 el día [8 de enero](https://www.thenaf.net/wp-content/uploads/2023/01/NAF-Report-2022.pdf).\n",
    "\n",
    "Al principio, me volví bastante loco bajándome todo lo que pensaba que podría ser útil, hasta que vi que tenía setenta y pico _datasets_ y reculé un poco. Principalmente eran datasets mensuales que podrían juntarse en uno solo, pero lo cierto es que Mike tiene muy bien planteada su página y puedes descargártelo todo de una vez.\n",
    "\n",
    "Como vías alternativas a la NAF, pensé en extraer datos con _webscrapping_ de la página [_fumbbl.com_](https://fumbbl.com/p/stats), que es una página para jugar de forma _online_ a través de _Java_. Si bien es cierto que Gertjan ya extrajo datos de esta página, pensé que sería añadir demasiado \"ruido\" con partidos \"no oficiales\".\n",
    "También me planteé usar un _parser_ que encontré en otro usuario de _github_, [ketilkn](https://github.com/ketilkn/naf-data), pero pensé que era meterse en demasiados problemas innecesarios para el proyecto.\n",
    "\n",
    "Una vez que me puse con los datos, pensé que lo interesante sería centrarse principalmente en los registros a partir del año 2020, ya que es el año en el que salió la nueva edición con la que se juega a día de hoy. Le concatené otro _dataframe_ del mundial _Eurobowl'22_ y con eso, finalicé mis datos principales.\n",
    "La mayor dificultad fue que al principio no me di cuenta de que había números como tipo de dato _string_ por lo que una vez me di cuenta, me tocó cambiar toda esa columna. Además, en el _dataframe_ original, los números que pasaban de 1000, se escribían como 1.000 y Python lo detectaba como un _float_ cuando en realidad no lo era, por ello, también tuve que modificar esas columnas.\n",
    "\n",
    "Después, añadí los resultados anteriores a 2020 en otro _dataframe_ para poder compararlos entre ellos. Y finalmente, depuré un _dataset_ que contiene el número de veces que ha ganado cada raza un torneo, las veces que ha quedado segundo, su mayor número de Touchdowns(goles) y su mayor número de bajas(heridas que ha hecho al contrario).\n",
    "Por último, quería trabajar con un _dataset_ que nos mostrara el porcentaje de victorias respecto al equipo contrario y encontré uno que nos mostraba esos datos.\n",
    "\n",
    "Con esos _dataframes_, quedaba el trabajo de presentación donde tuve que plantear los gráficos de _Tableau_ que iba a usar y añadirlo a la presentación de _PowerPoint_. Lo más difícil fue determinar qué gráficos eran relevantes y cómo iba a hacer el _storytelling_ para que el público ajeno a este juego, no se aburriera escuchándome hablar de elfos, enanos y demás.\n",
    "\n",
    "Los últimos días, gracias a lo aprendido en la última semana sobre visualizaciones, se abría un nuevo mundo de posibilidades, pero la falta de tiempo me impidió convertir varios gráficos con matplotlib. Fue en este momento cuando me di cuenta qué partes de los datos necesitaban más depuración e información adicional que yo había descartado al inicio del proyecto."
   ]
  }
 ],
 "metadata": {
  "kernelspec": {
   "display_name": "Python 3",
   "language": "python",
   "name": "python3"
  },
  "language_info": {
   "name": "python",
   "version": "3.7.4 (tags/v3.7.4:e09359112e, Jul  8 2019, 20:34:20) [MSC v.1916 64 bit (AMD64)]"
  },
  "orig_nbformat": 4,
  "vscode": {
   "interpreter": {
    "hash": "2eec9acf88381cf1499992ee23cdc6e89257d4a66a92679f136baabbb2af9460"
   }
  }
 },
 "nbformat": 4,
 "nbformat_minor": 2
}
